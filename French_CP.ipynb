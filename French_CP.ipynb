{
  "nbformat": 4,
  "nbformat_minor": 0,
  "metadata": {
    "colab": {
      "name": "French_CP.ipynb",
      "provenance": [],
      "authorship_tag": "ABX9TyN9ZDgBlXLC4UwqMrcyij5t",
      "include_colab_link": true
    },
    "kernelspec": {
      "name": "python3",
      "display_name": "Python 3"
    }
  },
  "cells": [
    {
      "cell_type": "markdown",
      "metadata": {
        "id": "view-in-github",
        "colab_type": "text"
      },
      "source": [
        "<a href=\"https://colab.research.google.com/github/esheehan1/projects/blob/master/French_CP.ipynb\" target=\"_parent\"><img src=\"https://colab.research.google.com/assets/colab-badge.svg\" alt=\"Open In Colab\"/></a>"
      ]
    },
    {
      "cell_type": "code",
      "metadata": {
        "id": "BSqGpTWUTf_y",
        "colab_type": "code",
        "colab": {}
      },
      "source": [
        "import numpy as np\n",
        "import pandas as pd\n",
        "import plotly_express as px\n",
        "from plotly.subplots import make_subplots"
      ],
      "execution_count": 0,
      "outputs": []
    },
    {
      "cell_type": "code",
      "metadata": {
        "id": "S06l_l5rVlRS",
        "colab_type": "code",
        "outputId": "c8512d41-359a-4363-b970-1fdd2810e27f",
        "colab": {
          "base_uri": "https://localhost:8080/",
          "height": 493
        }
      },
      "source": [
        "# Load Data\n",
        "# Source: https://www.banque-france.fr/en/politique-monetaire/publication/weekly_average_review?friday=05/06/2020\n",
        "# Dataset updated on Wednesday Morning\n",
        "\n",
        "url = 'https://raw.githubusercontent.com/esheehan1/projects/master/French_cp_vol.csv'\n",
        "result = pd.read_csv(url, header=2, encoding = 'unicode_escape').fillna('0')\n",
        "print(result)\n",
        "\n",
        "url = 'https://raw.githubusercontent.com/esheehan1/projects/master/French_cp_rate.csv'\n",
        "result2 = pd.read_csv(url, header=2, encoding = 'unicode_escape').fillna('0')\n",
        "print(result2)"
      ],
      "execution_count": 0,
      "outputs": [
        {
          "output_type": "stream",
          "text": [
            "    Unnamed: 0  Unnamed: 1 1 jour  ... 6 mois.4 9 mois.4 12 mois.4\n",
            "0            0  03/06/2016      0  ...        0        0         7\n",
            "1            0  10/06/2016      0  ...        0        0         0\n",
            "2            0  17/06/2016      0  ...        0        0         2\n",
            "3            0  24/06/2016      0  ...        0        0         1\n",
            "4            0  01/07/2016      0  ...        0        0        52\n",
            "..         ...         ...    ...  ...      ...      ...       ...\n",
            "205          0  08/05/2020      0  ...        0        0         0\n",
            "206          0  15/05/2020      0  ...        0        0         0\n",
            "207          0  22/05/2020      0  ...        0        0        45\n",
            "208          0  29/05/2020      0  ...        0        0         0\n",
            "209          0  05/06/2020      0  ...      330        0         0\n",
            "\n",
            "[210 rows x 52 columns]\n",
            "    Unnamed: 0  Unnamed: 1 1 jour  ... 6 mois.4 9 mois.4 12 mois.4\n",
            "0            0  03/06/2016      0  ...        0        0      0.22\n",
            "1            0  10/06/2016      0  ...        0        0         0\n",
            "2            0  17/06/2016      0  ...        0        0      0.41\n",
            "3            0  24/06/2016      0  ...        0        0      0.47\n",
            "4            0  01/07/2016      0  ...        0        0      0.31\n",
            "..         ...         ...    ...  ...      ...      ...       ...\n",
            "205          0  08/05/2020      0  ...        0        0         0\n",
            "206          0  15/05/2020      0  ...        0        0         0\n",
            "207          0  22/05/2020      0  ...        0        0     -0.14\n",
            "208          0  29/05/2020      0  ...        0        0         0\n",
            "209          0  05/06/2020      0  ...    -0.06        0         0\n",
            "\n",
            "[210 rows x 52 columns]\n"
          ],
          "name": "stdout"
        }
      ]
    },
    {
      "cell_type": "code",
      "metadata": {
        "id": "xNRbdq2gW_ik",
        "colab_type": "code",
        "outputId": "71c74aaf-019f-4d5a-ce73-adf0730754f7",
        "colab": {
          "base_uri": "https://localhost:8080/",
          "height": 916
        }
      },
      "source": [
        "\n",
        "#Merge the two CSV's\n",
        "df = pd.merge(result, result2, on='Unnamed: 1', how='left').fillna('0')\n",
        "print(df.columns)\n",
        "\n",
        "#Drop Unwanted Columns\n",
        "df = df.drop(columns=['Unnamed: 0_x','1 jour_x', '1 semaine_x', '2 semaines_x', '1 mois_x',\n",
        "       '2 mois_x', '4 mois_x', '6 mois_x', '9 mois_x',\n",
        "       '1 jour.4_y', '1 semaine.4_y', '2 semaines.4_y', '1 mois.4_y',\n",
        "       '2 mois.4_y', '3 mois.4_y', '4 mois.4_y', '6 mois.4_y', '9 mois.4_y',\n",
        "       '12 mois.4_y', '3 mois_x', '12 mois_x', '1 jour.1_x', '1 semaine.1_x',\n",
        "       '2 semaines.1_x', '1 mois.1_x', '2 mois.1_x',\n",
        "       '4 mois.1_x', '6 mois.1_x', '9 mois.1_x', '12 mois.1_x', '1 jour.2_x',\n",
        "       '1 semaine.2_x', '2 semaines.2_x', '1 mois.2_x', '2 mois.2_x',\n",
        "       '3 mois.2_x', '4 mois.2_x', '6 mois.2_x', '9 mois.2_x', '12 mois.2_x',\n",
        "       '1 jour.3_x', '1 semaine.3_x', '2 semaines.3_x', '1 mois.3_x',\n",
        "       '2 mois.3_x', '3 mois.3_x', '4 mois.3_x', '6 mois.3_x', '9 mois.3_x',\n",
        "       '12 mois.3_x', '1 jour.4_x', '1 semaine.4_x', '2 semaines.4_x',\n",
        "       '1 mois.4_x', '2 mois.4_x', '3 mois.4_x', '4 mois.4_x', '6 mois.4_x',\n",
        "       '9 mois.4_x', '12 mois.4_x', '1 jour_y', '1 semaine_y', '2 semaines_y',\n",
        "       '1 mois_y', '2 mois_y', '3 mois_y', '4 mois_y', '6 mois_y', '9 mois_y',\n",
        "       '12 mois_y', '1 jour.1_y', '1 semaine.1_y', '2 semaines.1_y',\n",
        "       '1 mois.1_y', '2 mois.1_y', '4 mois.1_y', '6 mois.1_y',\n",
        "       '9 mois.1_y', '12 mois.1_y', '1 jour.2_y', '1 semaine.2_y',\n",
        "       '2 semaines.2_y', '1 mois.2_y', '2 mois.2_y', '3 mois.2_y',\n",
        "       '4 mois.2_y', '6 mois.2_y', '9 mois.2_y', '12 mois.2_y', '1 jour.3_y',\n",
        "       '1 semaine.3_y', '2 semaines.3_y', '1 mois.3_y', '2 mois.3_y',\n",
        "       '3 mois.3_y', '4 mois.3_y', '6 mois.3_y', '9 mois.3_y', '12 mois.3_y'])\n",
        "\n",
        "print(df.columns)\n",
        "\n",
        "df = df.rename(columns={\n",
        "    'Unnamed: 1': 'Date', '3 mois.1_x': 'A1 3m Vol', '3 mois.1_y': 'A1 3m Rate'})\n",
        "\n",
        "\n",
        "#Set date as Datetie index and drop 'Date' string\n",
        "#df_time = pd.to_datetime(df.Date,dayfirst=True)\n",
        "#df = df.set_index(df_time)\n",
        "# selection of columns ** exluding 0 = 'Date'\n",
        "# Columns = 'Manufacturing', 'Construction / trades', 'Travel / tourism', 'Part-time / weekend', 'All industries'\n",
        "#df_select = df.iloc[:,[1,2]].replace(',','')\n",
        "print(df)\n",
        "\n",
        "\n",
        "\n",
        "#Select Timeframe\n",
        "n = 100\n",
        "df = df.tail(n)\n",
        "\n",
        "fig = px.scatter(df, x=\"Date\", y=\"A1 3m Rate\", size=\"A1 3m Vol\", size_max=60, title=\"French Weekly CP levels (Bubble Size = Volume traded)\")\n",
        "fig.show()"
      ],
      "execution_count": 0,
      "outputs": [
        {
          "output_type": "stream",
          "text": [
            "Index(['Unnamed: 0_x', 'Unnamed: 1', '1 jour_x', '1 semaine_x', '2 semaines_x',\n",
            "       '1 mois_x', '2 mois_x', '3 mois_x', '4 mois_x', '6 mois_x',\n",
            "       ...\n",
            "       '1 jour.4_y', '1 semaine.4_y', '2 semaines.4_y', '1 mois.4_y',\n",
            "       '2 mois.4_y', '3 mois.4_y', '4 mois.4_y', '6 mois.4_y', '9 mois.4_y',\n",
            "       '12 mois.4_y'],\n",
            "      dtype='object', length=103)\n",
            "Index(['Unnamed: 1', '3 mois.1_x', 'Unnamed: 0_y', '3 mois.1_y'], dtype='object')\n",
            "           Date  A1 3m Vol Unnamed: 0_y  A1 3m Rate\n",
            "0    03/06/2016     1653.1            0       -0.25\n",
            "1    10/06/2016      908.2            0       -0.29\n",
            "2    17/06/2016     1141.8            0       -0.31\n",
            "3    24/06/2016     1033.2            0       -0.29\n",
            "4    01/07/2016     1183.5            0       -0.32\n",
            "..          ...        ...          ...         ...\n",
            "205  08/05/2020     1769.0            0       -0.28\n",
            "206  15/05/2020     1251.0            0       -0.24\n",
            "207  22/05/2020      122.0            0       -0.31\n",
            "208  29/05/2020     1304.5            0       -0.28\n",
            "209  05/06/2020      800.5            0       -0.31\n",
            "\n",
            "[210 rows x 4 columns]\n"
          ],
          "name": "stdout"
        },
        {
          "output_type": "display_data",
          "data": {
            "text/html": [
              "<html>\n",
              "<head><meta charset=\"utf-8\" /></head>\n",
              "<body>\n",
              "    <div>\n",
              "            <script src=\"https://cdnjs.cloudflare.com/ajax/libs/mathjax/2.7.5/MathJax.js?config=TeX-AMS-MML_SVG\"></script><script type=\"text/javascript\">if (window.MathJax) {MathJax.Hub.Config({SVG: {font: \"STIX-Web\"}});}</script>\n",
              "                <script type=\"text/javascript\">window.PlotlyConfig = {MathJaxConfig: 'local'};</script>\n",
              "        <script src=\"https://cdn.plot.ly/plotly-latest.min.js\"></script>    \n",
              "            <div id=\"5ea9cf09-4205-4de0-a1f3-6503b99e189e\" class=\"plotly-graph-div\" style=\"height:525px; width:100%;\"></div>\n",
              "            <script type=\"text/javascript\">\n",
              "                \n",
              "                    window.PLOTLYENV=window.PLOTLYENV || {};\n",
              "                    \n",
              "                if (document.getElementById(\"5ea9cf09-4205-4de0-a1f3-6503b99e189e\")) {\n",
              "                    Plotly.newPlot(\n",
              "                        '5ea9cf09-4205-4de0-a1f3-6503b99e189e',\n",
              "                        [{\"hoverlabel\": {\"namelength\": 0}, \"hovertemplate\": \"Date=%{x}<br>A1 3m Rate=%{y}<br>A1 3m Vol=%{marker.size}\", \"legendgroup\": \"\", \"marker\": {\"color\": \"#636efa\", \"size\": [480.1, 390.3, 549.2, 2074.5, 287.5, 637.2, 952.1, 1553.3, 376.0, 750.8, 404.2, 2394.1, 1176.5, 695.0, 244.5, 610.7, 1088.0, 443.1, 329.5, 620.9, 210.8, 537.1, 986.8, 1057.0, 983.7, 863.0, 1337.4, 621.0, 487.0, 479.6, 501.3, 733.7, 433.8, 691.8, 668.0, 571.0, 783.0, 1509.3, 793.5, 476.6, 475.0, 248.2, 239.8, 170.8, 546.4, 350.7, 864.2, 851.5, 371.5, 896.5, 460.9, 686.5, 286.4, 178.5, 378.7, 670.5, 266.8, 525.5, 505.1, 585.4, 1019.0, 375.0, 594.7, 649.5, 598.5, 229.3, 287.5, 245.0, 714.5, 345.3, 371.5, 554.0, 526.0, 191.5, 185.0, 1354.7, 659.9, 556.5, 831.9, 411.5, 505.0, 998.3, 1073.5, 358.8, 273.0, 427.9, 225.0, 137.5, 42.7, 27.6, 466.3, 179.8, 119.0, 244.3, 652.9, 1769.0, 1251.0, 122.0, 1304.5, 800.5], \"sizemode\": \"area\", \"sizeref\": 0.6650277777777778, \"symbol\": \"circle\"}, \"mode\": \"markers\", \"name\": \"\", \"showlegend\": false, \"type\": \"scatter\", \"x\": [\"13/07/2018\", \"20/07/2018\", \"27/07/2018\", \"03/08/2018\", \"10/08/2018\", \"17/08/2018\", \"24/08/2018\", \"31/08/2018\", \"07/09/2018\", \"14/09/2018\", \"21/09/2018\", \"28/09/2018\", \"05/10/2018\", \"12/10/2018\", \"19/10/2018\", \"26/10/2018\", \"02/11/2018\", \"09/11/2018\", \"16/11/2018\", \"23/11/2018\", \"30/11/2018\", \"07/12/2018\", \"14/12/2018\", \"21/12/2018\", \"28/12/2018\", \"04/01/2019\", \"11/01/2019\", \"18/01/2019\", \"25/01/2019\", \"01/02/2019\", \"08/02/2019\", \"15/02/2019\", \"22/02/2019\", \"01/03/2019\", \"08/03/2019\", \"15/03/2019\", \"22/03/2019\", \"29/03/2019\", \"05/04/2019\", \"12/04/2019\", \"19/04/2019\", \"26/04/2019\", \"03/05/2019\", \"10/05/2019\", \"17/05/2019\", \"24/05/2019\", \"31/05/2019\", \"07/06/2019\", \"14/06/2019\", \"21/06/2019\", \"28/06/2019\", \"05/07/2019\", \"12/07/2019\", \"19/07/2019\", \"26/07/2019\", \"02/08/2019\", \"09/08/2019\", \"16/08/2019\", \"23/08/2019\", \"30/08/2019\", \"06/09/2019\", \"13/09/2019\", \"20/09/2019\", \"27/09/2019\", \"04/10/2019\", \"11/10/2019\", \"18/10/2019\", \"25/10/2019\", \"01/11/2019\", \"08/11/2019\", \"15/11/2019\", \"22/11/2019\", \"29/11/2019\", \"06/12/2019\", \"13/12/2019\", \"20/12/2019\", \"27/12/2019\", \"03/01/2020\", \"10/01/2020\", \"17/01/2020\", \"24/01/2020\", \"31/01/2020\", \"07/02/2020\", \"14/02/2020\", \"21/02/2020\", \"28/02/2020\", \"06/03/2020\", \"13/03/2020\", \"20/03/2020\", \"27/03/2020\", \"03/04/2020\", \"10/04/2020\", \"17/04/2020\", \"24/04/2020\", \"01/05/2020\", \"08/05/2020\", \"15/05/2020\", \"22/05/2020\", \"29/05/2020\", \"05/06/2020\"], \"xaxis\": \"x\", \"y\": [-0.33, -0.33, -0.29, -0.35, -0.35, -0.26, -0.31, -0.31, -0.35, -0.23, -0.27, -0.36, -0.33, -0.33, -0.36, -0.32, -0.35, -0.35, -0.35, -0.34, -0.31, -0.27, -0.19, -0.23, -0.29, -0.31, -0.29, -0.31, -0.31, -0.31, -0.32, -0.33, -0.29, -0.32, -0.34, -0.16, -0.25, -0.29, -0.31, -0.28, -0.33, -0.32, -0.19, -0.34, -0.35, -0.34, -0.32, -0.32, -0.25, -0.27, -0.34, -0.37, -0.27, -0.37, -0.14, -0.39, -0.4, -0.43, -0.42, -0.34, -0.43, -0.4, -0.29, -0.29, -0.43, -0.43, -0.18, -0.11, -0.4, -0.4, -0.41, -0.39, -0.36, -0.39, -0.41, -0.27, -0.37, -0.38, -0.34, -0.39, -0.32, -0.36, -0.4, -0.4, -0.42, -0.35, -0.44, -0.49, -0.4, -0.15, -0.29, -0.15, -0.05, -0.26, -0.22, -0.28, -0.24, -0.31, -0.28, -0.31], \"yaxis\": \"y\"}],\n",
              "                        {\"legend\": {\"itemsizing\": \"constant\", \"tracegroupgap\": 0}, \"template\": {\"data\": {\"bar\": [{\"error_x\": {\"color\": \"#2a3f5f\"}, \"error_y\": {\"color\": \"#2a3f5f\"}, \"marker\": {\"line\": {\"color\": \"#E5ECF6\", \"width\": 0.5}}, \"type\": \"bar\"}], \"barpolar\": [{\"marker\": {\"line\": {\"color\": \"#E5ECF6\", \"width\": 0.5}}, \"type\": \"barpolar\"}], \"carpet\": [{\"aaxis\": {\"endlinecolor\": \"#2a3f5f\", \"gridcolor\": \"white\", \"linecolor\": \"white\", \"minorgridcolor\": \"white\", \"startlinecolor\": \"#2a3f5f\"}, \"baxis\": {\"endlinecolor\": \"#2a3f5f\", \"gridcolor\": \"white\", \"linecolor\": \"white\", \"minorgridcolor\": \"white\", \"startlinecolor\": \"#2a3f5f\"}, \"type\": \"carpet\"}], \"choropleth\": [{\"colorbar\": {\"outlinewidth\": 0, \"ticks\": \"\"}, \"type\": \"choropleth\"}], \"contour\": [{\"colorbar\": {\"outlinewidth\": 0, \"ticks\": \"\"}, \"colorscale\": [[0.0, \"#0d0887\"], [0.1111111111111111, \"#46039f\"], [0.2222222222222222, \"#7201a8\"], [0.3333333333333333, \"#9c179e\"], [0.4444444444444444, \"#bd3786\"], [0.5555555555555556, \"#d8576b\"], [0.6666666666666666, \"#ed7953\"], [0.7777777777777778, \"#fb9f3a\"], [0.8888888888888888, \"#fdca26\"], [1.0, \"#f0f921\"]], \"type\": \"contour\"}], \"contourcarpet\": [{\"colorbar\": {\"outlinewidth\": 0, \"ticks\": \"\"}, \"type\": \"contourcarpet\"}], \"heatmap\": [{\"colorbar\": {\"outlinewidth\": 0, \"ticks\": \"\"}, \"colorscale\": [[0.0, \"#0d0887\"], [0.1111111111111111, \"#46039f\"], [0.2222222222222222, \"#7201a8\"], [0.3333333333333333, \"#9c179e\"], [0.4444444444444444, \"#bd3786\"], [0.5555555555555556, \"#d8576b\"], [0.6666666666666666, \"#ed7953\"], [0.7777777777777778, \"#fb9f3a\"], [0.8888888888888888, \"#fdca26\"], [1.0, \"#f0f921\"]], \"type\": \"heatmap\"}], \"heatmapgl\": [{\"colorbar\": {\"outlinewidth\": 0, \"ticks\": \"\"}, \"colorscale\": [[0.0, \"#0d0887\"], [0.1111111111111111, \"#46039f\"], [0.2222222222222222, \"#7201a8\"], [0.3333333333333333, \"#9c179e\"], [0.4444444444444444, \"#bd3786\"], [0.5555555555555556, \"#d8576b\"], [0.6666666666666666, \"#ed7953\"], [0.7777777777777778, \"#fb9f3a\"], [0.8888888888888888, \"#fdca26\"], [1.0, \"#f0f921\"]], \"type\": \"heatmapgl\"}], \"histogram\": [{\"marker\": {\"colorbar\": {\"outlinewidth\": 0, \"ticks\": \"\"}}, \"type\": \"histogram\"}], \"histogram2d\": [{\"colorbar\": {\"outlinewidth\": 0, \"ticks\": \"\"}, \"colorscale\": [[0.0, \"#0d0887\"], [0.1111111111111111, \"#46039f\"], [0.2222222222222222, \"#7201a8\"], [0.3333333333333333, \"#9c179e\"], [0.4444444444444444, \"#bd3786\"], [0.5555555555555556, \"#d8576b\"], [0.6666666666666666, \"#ed7953\"], [0.7777777777777778, \"#fb9f3a\"], [0.8888888888888888, \"#fdca26\"], [1.0, \"#f0f921\"]], \"type\": \"histogram2d\"}], \"histogram2dcontour\": [{\"colorbar\": {\"outlinewidth\": 0, \"ticks\": \"\"}, \"colorscale\": [[0.0, \"#0d0887\"], [0.1111111111111111, \"#46039f\"], [0.2222222222222222, \"#7201a8\"], [0.3333333333333333, \"#9c179e\"], [0.4444444444444444, \"#bd3786\"], [0.5555555555555556, \"#d8576b\"], [0.6666666666666666, \"#ed7953\"], [0.7777777777777778, \"#fb9f3a\"], [0.8888888888888888, \"#fdca26\"], [1.0, \"#f0f921\"]], \"type\": \"histogram2dcontour\"}], \"mesh3d\": [{\"colorbar\": {\"outlinewidth\": 0, \"ticks\": \"\"}, \"type\": \"mesh3d\"}], \"parcoords\": [{\"line\": {\"colorbar\": {\"outlinewidth\": 0, \"ticks\": \"\"}}, \"type\": \"parcoords\"}], \"pie\": [{\"automargin\": true, \"type\": \"pie\"}], \"scatter\": [{\"marker\": {\"colorbar\": {\"outlinewidth\": 0, \"ticks\": \"\"}}, \"type\": \"scatter\"}], \"scatter3d\": [{\"line\": {\"colorbar\": {\"outlinewidth\": 0, \"ticks\": \"\"}}, \"marker\": {\"colorbar\": {\"outlinewidth\": 0, \"ticks\": \"\"}}, \"type\": \"scatter3d\"}], \"scattercarpet\": [{\"marker\": {\"colorbar\": {\"outlinewidth\": 0, \"ticks\": \"\"}}, \"type\": \"scattercarpet\"}], \"scattergeo\": [{\"marker\": {\"colorbar\": {\"outlinewidth\": 0, \"ticks\": \"\"}}, \"type\": \"scattergeo\"}], \"scattergl\": [{\"marker\": {\"colorbar\": {\"outlinewidth\": 0, \"ticks\": \"\"}}, \"type\": \"scattergl\"}], \"scattermapbox\": [{\"marker\": {\"colorbar\": {\"outlinewidth\": 0, \"ticks\": \"\"}}, \"type\": \"scattermapbox\"}], \"scatterpolar\": [{\"marker\": {\"colorbar\": {\"outlinewidth\": 0, \"ticks\": \"\"}}, \"type\": \"scatterpolar\"}], \"scatterpolargl\": [{\"marker\": {\"colorbar\": {\"outlinewidth\": 0, \"ticks\": \"\"}}, \"type\": \"scatterpolargl\"}], \"scatterternary\": [{\"marker\": {\"colorbar\": {\"outlinewidth\": 0, \"ticks\": \"\"}}, \"type\": \"scatterternary\"}], \"surface\": [{\"colorbar\": {\"outlinewidth\": 0, \"ticks\": \"\"}, \"colorscale\": [[0.0, \"#0d0887\"], [0.1111111111111111, \"#46039f\"], [0.2222222222222222, \"#7201a8\"], [0.3333333333333333, \"#9c179e\"], [0.4444444444444444, \"#bd3786\"], [0.5555555555555556, \"#d8576b\"], [0.6666666666666666, \"#ed7953\"], [0.7777777777777778, \"#fb9f3a\"], [0.8888888888888888, \"#fdca26\"], [1.0, \"#f0f921\"]], \"type\": \"surface\"}], \"table\": [{\"cells\": {\"fill\": {\"color\": \"#EBF0F8\"}, \"line\": {\"color\": \"white\"}}, \"header\": {\"fill\": {\"color\": \"#C8D4E3\"}, \"line\": {\"color\": \"white\"}}, \"type\": \"table\"}]}, \"layout\": {\"annotationdefaults\": {\"arrowcolor\": \"#2a3f5f\", \"arrowhead\": 0, \"arrowwidth\": 1}, \"coloraxis\": {\"colorbar\": {\"outlinewidth\": 0, \"ticks\": \"\"}}, \"colorscale\": {\"diverging\": [[0, \"#8e0152\"], [0.1, \"#c51b7d\"], [0.2, \"#de77ae\"], [0.3, \"#f1b6da\"], [0.4, \"#fde0ef\"], [0.5, \"#f7f7f7\"], [0.6, \"#e6f5d0\"], [0.7, \"#b8e186\"], [0.8, \"#7fbc41\"], [0.9, \"#4d9221\"], [1, \"#276419\"]], \"sequential\": [[0.0, \"#0d0887\"], [0.1111111111111111, \"#46039f\"], [0.2222222222222222, \"#7201a8\"], [0.3333333333333333, \"#9c179e\"], [0.4444444444444444, \"#bd3786\"], [0.5555555555555556, \"#d8576b\"], [0.6666666666666666, \"#ed7953\"], [0.7777777777777778, \"#fb9f3a\"], [0.8888888888888888, \"#fdca26\"], [1.0, \"#f0f921\"]], \"sequentialminus\": [[0.0, \"#0d0887\"], [0.1111111111111111, \"#46039f\"], [0.2222222222222222, \"#7201a8\"], [0.3333333333333333, \"#9c179e\"], [0.4444444444444444, \"#bd3786\"], [0.5555555555555556, \"#d8576b\"], [0.6666666666666666, \"#ed7953\"], [0.7777777777777778, \"#fb9f3a\"], [0.8888888888888888, \"#fdca26\"], [1.0, \"#f0f921\"]]}, \"colorway\": [\"#636efa\", \"#EF553B\", \"#00cc96\", \"#ab63fa\", \"#FFA15A\", \"#19d3f3\", \"#FF6692\", \"#B6E880\", \"#FF97FF\", \"#FECB52\"], \"font\": {\"color\": \"#2a3f5f\"}, \"geo\": {\"bgcolor\": \"white\", \"lakecolor\": \"white\", \"landcolor\": \"#E5ECF6\", \"showlakes\": true, \"showland\": true, \"subunitcolor\": \"white\"}, \"hoverlabel\": {\"align\": \"left\"}, \"hovermode\": \"closest\", \"mapbox\": {\"style\": \"light\"}, \"paper_bgcolor\": \"white\", \"plot_bgcolor\": \"#E5ECF6\", \"polar\": {\"angularaxis\": {\"gridcolor\": \"white\", \"linecolor\": \"white\", \"ticks\": \"\"}, \"bgcolor\": \"#E5ECF6\", \"radialaxis\": {\"gridcolor\": \"white\", \"linecolor\": \"white\", \"ticks\": \"\"}}, \"scene\": {\"xaxis\": {\"backgroundcolor\": \"#E5ECF6\", \"gridcolor\": \"white\", \"gridwidth\": 2, \"linecolor\": \"white\", \"showbackground\": true, \"ticks\": \"\", \"zerolinecolor\": \"white\"}, \"yaxis\": {\"backgroundcolor\": \"#E5ECF6\", \"gridcolor\": \"white\", \"gridwidth\": 2, \"linecolor\": \"white\", \"showbackground\": true, \"ticks\": \"\", \"zerolinecolor\": \"white\"}, \"zaxis\": {\"backgroundcolor\": \"#E5ECF6\", \"gridcolor\": \"white\", \"gridwidth\": 2, \"linecolor\": \"white\", \"showbackground\": true, \"ticks\": \"\", \"zerolinecolor\": \"white\"}}, \"shapedefaults\": {\"line\": {\"color\": \"#2a3f5f\"}}, \"ternary\": {\"aaxis\": {\"gridcolor\": \"white\", \"linecolor\": \"white\", \"ticks\": \"\"}, \"baxis\": {\"gridcolor\": \"white\", \"linecolor\": \"white\", \"ticks\": \"\"}, \"bgcolor\": \"#E5ECF6\", \"caxis\": {\"gridcolor\": \"white\", \"linecolor\": \"white\", \"ticks\": \"\"}}, \"title\": {\"x\": 0.05}, \"xaxis\": {\"automargin\": true, \"gridcolor\": \"white\", \"linecolor\": \"white\", \"ticks\": \"\", \"title\": {\"standoff\": 15}, \"zerolinecolor\": \"white\", \"zerolinewidth\": 2}, \"yaxis\": {\"automargin\": true, \"gridcolor\": \"white\", \"linecolor\": \"white\", \"ticks\": \"\", \"title\": {\"standoff\": 15}, \"zerolinecolor\": \"white\", \"zerolinewidth\": 2}}}, \"title\": {\"text\": \"French Weekly CP levels (Bubble Size = Volume traded)\"}, \"xaxis\": {\"anchor\": \"y\", \"domain\": [0.0, 1.0], \"title\": {\"text\": \"Date\"}}, \"yaxis\": {\"anchor\": \"x\", \"domain\": [0.0, 1.0], \"title\": {\"text\": \"A1 3m Rate\"}}},\n",
              "                        {\"responsive\": true}\n",
              "                    ).then(function(){\n",
              "                            \n",
              "var gd = document.getElementById('5ea9cf09-4205-4de0-a1f3-6503b99e189e');\n",
              "var x = new MutationObserver(function (mutations, observer) {{\n",
              "        var display = window.getComputedStyle(gd).display;\n",
              "        if (!display || display === 'none') {{\n",
              "            console.log([gd, 'removed!']);\n",
              "            Plotly.purge(gd);\n",
              "            observer.disconnect();\n",
              "        }}\n",
              "}});\n",
              "\n",
              "// Listen for the removal of the full notebook cells\n",
              "var notebookContainer = gd.closest('#notebook-container');\n",
              "if (notebookContainer) {{\n",
              "    x.observe(notebookContainer, {childList: true});\n",
              "}}\n",
              "\n",
              "// Listen for the clearing of the current output cell\n",
              "var outputEl = gd.closest('.output');\n",
              "if (outputEl) {{\n",
              "    x.observe(outputEl, {childList: true});\n",
              "}}\n",
              "\n",
              "                        })\n",
              "                };\n",
              "                \n",
              "            </script>\n",
              "        </div>\n",
              "</body>\n",
              "</html>"
            ]
          },
          "metadata": {
            "tags": []
          }
        }
      ]
    }
  ]
}